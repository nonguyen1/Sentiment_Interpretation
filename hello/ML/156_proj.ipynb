{
 "cells": [
  {
   "cell_type": "code",
   "execution_count": 2,
   "metadata": {
    "colab": {
     "base_uri": "https://localhost:8080/",
     "height": 389
    },
    "colab_type": "code",
    "id": "geLXtW_0xNxg",
    "outputId": "882d023d-5233-44a3-eb69-c614c561f61f"
   },
   "outputs": [],
   "source": [
    "import csv\n",
    "from sklearn.linear_model import LogisticRegression\n",
    "from sklearn import metrics\n",
    "from sklearn.feature_extraction.text import TfidfVectorizer\n",
    "from sklearn.model_selection import train_test_split\n",
    "import pickle"
   ]
  },
  {
   "cell_type": "code",
   "execution_count": 3,
   "metadata": {
    "colab": {},
    "colab_type": "code",
    "id": "QTfnb_8wxOh0"
   },
   "outputs": [],
   "source": [
    "def read_data(filename='text_emotion.csv'):\n",
    "    X = []\n",
    "    y = []\n",
    "    with open(filename, newline='') as f:\n",
    "        reader = csv.reader(f)\n",
    "        next(reader, None)\n",
    "        for i,data in enumerate(reader):\n",
    "            y.append(data[1])\n",
    "            X.append(data[3])\n",
    "    \n",
    "    #Process the texts a bit.   \n",
    "    #remove punctuation and make lower.\n",
    "    #X = [x.lower() for x in X]\n",
    "    \n",
    "    return X, y"
   ]
  },
  {
   "cell_type": "code",
   "execution_count": 4,
   "metadata": {
    "colab": {},
    "colab_type": "code",
    "id": "QiGhk9R-zBVC"
   },
   "outputs": [],
   "source": [
    "def combine_data(X, y):\n",
    "  new_X, new_y = [], []\n",
    "  for data in zip(X, y):\n",
    "    if (data[1] == 'enthusiasm' or data[1] == 'surprise' or data[1] == 'love' or data[1] == 'fun' \n",
    "        or data[1] == 'happiness' or data[1] == 'relief'):\n",
    "      new_X.append(data[0])\n",
    "      new_y.append('happy')\n",
    "    elif data[1] == 'boredom' or data[1] == 'neutral' or data[1] == 'empty':\n",
    "      new_X.append(data[0])\n",
    "      new_y.append('neutral')\n",
    "    elif data[1] == 'sadness' or data[1] == 'worry':\n",
    "      new_X.append(data[0])\n",
    "      new_y.append('sad')\n",
    "    else:\n",
    "      new_X.append(data[0])\n",
    "      new_y.append(data[1])\n",
    "  return new_X, new_y\n",
    "    "
   ]
  },
  {
   "cell_type": "code",
   "execution_count": 11,
   "metadata": {
    "colab": {},
    "colab_type": "code",
    "id": "WRbbzAe6xffv"
   },
   "outputs": [],
   "source": [
    "X, y = read_data()\n",
    "# Combine some of the labels together\n",
    "X_5, y_5 = combine_data(X, y)\n",
    "# Split the data into test and train\n",
    "# X_train, X_test, y_train, y_test = train_test_split(X_5, y_5, test_size=0.33, random_state=42)\n",
    "# X13_train, X13_test, y13_train, y13_test = train_test_split(X, y, test_size=0.33, random_state=42)"
   ]
  },
  {
   "cell_type": "code",
   "execution_count": 12,
   "metadata": {
    "colab": {},
    "colab_type": "code",
    "id": "aYxqd3iFxhEo"
   },
   "outputs": [],
   "source": [
    "def train_classifier(X, y):\n",
    "    cls = LogisticRegression(multi_class='multinomial', solver='newton-cg')\n",
    "    cls.fit(X, y)\n",
    "    return cls\n",
    "def evaluate(X, yt, cls):\n",
    "    yp = cls.predict(X)\n",
    "    acc = metrics.accuracy_score(yt, yp)\n",
    "    return acc"
   ]
  },
  {
   "cell_type": "code",
   "execution_count": 13,
   "metadata": {
    "colab": {},
    "colab_type": "code",
    "id": "AB7vqXgfxnio"
   },
   "outputs": [],
   "source": [
    "tfidf = TfidfVectorizer(ngram_range=(1, 2))\n",
    "tfidf.fit(X)\n",
    "X_train = tfidf.transform(X)\n",
    "# X_test = tfidf.transform(X_test)\n",
    "X_train5 = tfidf.transform(X_5)"
   ]
  },
  {
   "cell_type": "code",
   "execution_count": 14,
   "metadata": {
    "colab": {
     "base_uri": "https://localhost:8080/",
     "height": 35
    },
    "colab_type": "code",
    "id": "uOkQuf5dPEBC",
    "outputId": "30758129-7018-46f5-8ad8-a94ed56f4403"
   },
   "outputs": [
    {
     "data": {
      "text/plain": [
       "40000"
      ]
     },
     "execution_count": 14,
     "metadata": {},
     "output_type": "execute_result"
    }
   ],
   "source": [
    "len(X_5)"
   ]
  },
  {
   "cell_type": "code",
   "execution_count": 15,
   "metadata": {
    "colab": {},
    "colab_type": "code",
    "id": "JBeoXHhoxpOL"
   },
   "outputs": [],
   "source": [
    "cls_5 = train_classifier(X_train5, y_5)"
   ]
  },
  {
   "cell_type": "code",
   "execution_count": 31,
   "metadata": {},
   "outputs": [
    {
     "name": "stdout",
     "output_type": "stream",
     "text": [
      "  (0, 250178)\t0.42424824163067487\n",
      "  (0, 211783)\t0.2997900508254158\n",
      "  (0, 211477)\t0.13345411573051646\n",
      "  (0, 191172)\t0.42424824163067487\n",
      "  (0, 139769)\t0.37550408840311744\n",
      "  (0, 139567)\t0.1650898023631214\n",
      "  (0, 134154)\t0.2202954380216786\n",
      "  (0, 99237)\t0.40847187063705415\n",
      "  (0, 99125)\t0.1681461297497927\n",
      "  (0, 14469)\t0.10846722875622156\n",
      "  (0, 12417)\t0.2792840497897836\n",
      "  (0, 12069)\t0.17512175727111215\n",
      "happy\n",
      "{'unicorn': [-0.0008137249193864325, -0.0663366584526803, -0.00961673839648458, 0.12500319972352894, -0.0482360779549776], 'so happy': [-0.015375264264068832, 1.1845504875791746, 0.012114244537194408, -0.6444122960783951, -0.5368771717739048], 'so': [0.030820358223296415, 0.4271256907788574, 1.2808979936528215, -1.9092149862854606, 0.17037094363047459], 'rainbows': [-0.0007751144821914532, -0.04426838170316526, -0.009399509469283522, 0.10813095828361487, -0.053687952628974654], 'love life': [0.22031931228345703, -0.05020169081102888, -0.019896624815323827, -0.11875087462787952, -0.031470122029224806], 'love': [-0.13904823044655637, 7.042265308639091, -1.6021290827052825, -3.8928295677540263, -1.408258427733226], 'life': [0.0943696133766585, 0.09352427300464485, -0.40062933714643384, -0.6694641213531075, 0.8821995721182384], 'happy love': [-0.0004612127102920355, -0.1583176662916522, -0.0035649856252617323, -0.010792633646345216, 0.1731364982735512], 'happy': [-0.28029650588162475, 4.912656279589034, -1.085866245091074, -2.1872013209253867, -1.3592922076909493], 'and': [-0.12477966112656996, 0.2796659257766635, 1.0734526968289457, -1.4024741306324984, 0.17413516915344554], 'am so': [-0.043028039252643514, 0.17984466369877525, 0.1923990288312283, -0.39847896701735575, 0.06926331373999445], 'am': [0.08831586365577497, -0.19986351237504418, 0.13988809059382729, -1.0614719968792834, 1.0331315550047147]}\n"
     ]
    }
   ],
   "source": [
    "dummy_sent = \"I am so happy. I love life. Unicorn and rainbows\"\n",
    "\n",
    "# cls_5\n",
    "# tfidf\n",
    "\n",
    "# Get the vector encoding\n",
    "sent_vec = tfidf.transform([dummy_sent])\n",
    "\n",
    "pred = cls_5.predict(sent_vec)[0]\n",
    "\n",
    "weights = {}\n",
    "\n",
    "for index,rep in zip(sent_vec.indices,\n",
    "        tfidf.inverse_transform(sent_vec)[0]):\n",
    "    class_weights = []\n",
    "    num_classes = len(cls_5.classes_)\n",
    "    for i in range(num_classes):\n",
    "        class_weights.append(cls_5.coef_[i][index])\n",
    "    weights[str(rep)] = class_weights\n",
    "                                                               \n",
    "print(sent_vec)\n",
    "print(pred)\n",
    "print(weights)"
   ]
  },
  {
   "cell_type": "code",
   "execution_count": 16,
   "metadata": {
    "colab": {
     "base_uri": "https://localhost:8080/",
     "height": 35
    },
    "colab_type": "code",
    "id": "ieTaM7ZHxrkX",
    "outputId": "a5f050a3-94b2-41ce-aaed-8bbd13e33047"
   },
   "outputs": [
    {
     "data": {
      "text/plain": [
       "0.85445"
      ]
     },
     "execution_count": 16,
     "metadata": {},
     "output_type": "execute_result"
    }
   ],
   "source": [
    "acc = evaluate(X_train5, y_5, cls_5)\n",
    "acc"
   ]
  },
  {
   "cell_type": "code",
   "execution_count": 17,
   "metadata": {
    "colab": {
     "base_uri": "https://localhost:8080/",
     "height": 35
    },
    "colab_type": "code",
    "id": "jaHpSt6VyaP5",
    "outputId": "4228deee-6199-4c84-e682-330ddf9a7884"
   },
   "outputs": [
    {
     "ename": "NameError",
     "evalue": "name 'y_train' is not defined",
     "output_type": "error",
     "traceback": [
      "\u001b[0;31m---------------------------------------------------------------------------\u001b[0m",
      "\u001b[0;31mNameError\u001b[0m                                 Traceback (most recent call last)",
      "\u001b[0;32m<ipython-input-17-c162aa58f5d2>\u001b[0m in \u001b[0;36m<module>\u001b[0;34m()\u001b[0m\n\u001b[1;32m      1\u001b[0m \u001b[0mcats\u001b[0m \u001b[0;34m=\u001b[0m \u001b[0mset\u001b[0m\u001b[0;34m(\u001b[0m\u001b[0;34m)\u001b[0m\u001b[0;34m\u001b[0m\u001b[0;34m\u001b[0m\u001b[0m\n\u001b[0;32m----> 2\u001b[0;31m \u001b[0;32mfor\u001b[0m \u001b[0mlabel\u001b[0m \u001b[0;32min\u001b[0m \u001b[0my_train\u001b[0m\u001b[0;34m:\u001b[0m\u001b[0;34m\u001b[0m\u001b[0;34m\u001b[0m\u001b[0m\n\u001b[0m\u001b[1;32m      3\u001b[0m   \u001b[0mcats\u001b[0m\u001b[0;34m.\u001b[0m\u001b[0madd\u001b[0m\u001b[0;34m(\u001b[0m\u001b[0mlabel\u001b[0m\u001b[0;34m)\u001b[0m\u001b[0;34m\u001b[0m\u001b[0;34m\u001b[0m\u001b[0m\n\u001b[1;32m      4\u001b[0m \u001b[0mcats\u001b[0m\u001b[0;34m\u001b[0m\u001b[0;34m\u001b[0m\u001b[0m\n",
      "\u001b[0;31mNameError\u001b[0m: name 'y_train' is not defined"
     ]
    }
   ],
   "source": [
    "cats = set()\n",
    "for label in y_train:\n",
    "  cats.add(label)\n",
    "cats"
   ]
  },
  {
   "cell_type": "code",
   "execution_count": 18,
   "metadata": {
    "colab": {
     "base_uri": "https://localhost:8080/",
     "height": 35
    },
    "colab_type": "code",
    "id": "LSG5oMV_y4Pq",
    "outputId": "707d8e56-f32d-4f75-914c-a07070e4954e"
   },
   "outputs": [
    {
     "data": {
      "text/plain": [
       "0"
      ]
     },
     "execution_count": 18,
     "metadata": {},
     "output_type": "execute_result"
    }
   ],
   "source": [
    "len(cats)"
   ]
  },
  {
   "cell_type": "code",
   "execution_count": 19,
   "metadata": {
    "colab": {},
    "colab_type": "code",
    "id": "mbeBFfbX9LSp"
   },
   "outputs": [],
   "source": [
    "cls_13 = train_classifier(X_train, y)"
   ]
  },
  {
   "cell_type": "code",
   "execution_count": 20,
   "metadata": {
    "colab": {
     "base_uri": "https://localhost:8080/",
     "height": 35
    },
    "colab_type": "code",
    "id": "zJIx6DrU9MxW",
    "outputId": "bd9a7b0e-7f0c-41fa-c4a3-6b29022ba05e"
   },
   "outputs": [
    {
     "name": "stdout",
     "output_type": "stream",
     "text": [
      "0.656025\n"
     ]
    }
   ],
   "source": [
    "acc = evaluate(X_train, y, cls_13)\n",
    "print(acc)"
   ]
  },
  {
   "cell_type": "code",
   "execution_count": 21,
   "metadata": {
    "colab": {
     "base_uri": "https://localhost:8080/",
     "height": 73
    },
    "colab_type": "code",
    "id": "Mf1zUg4S9yhm",
    "outputId": "73d5f651-9b9d-42a9-b15e-2f76c606f138"
   },
   "outputs": [
    {
     "ename": "NameError",
     "evalue": "name 'y13_train' is not defined",
     "output_type": "error",
     "traceback": [
      "\u001b[0;31m---------------------------------------------------------------------------\u001b[0m",
      "\u001b[0;31mNameError\u001b[0m                                 Traceback (most recent call last)",
      "\u001b[0;32m<ipython-input-21-39f0938ad311>\u001b[0m in \u001b[0;36m<module>\u001b[0;34m()\u001b[0m\n\u001b[1;32m      1\u001b[0m \u001b[0mcats\u001b[0m \u001b[0;34m=\u001b[0m \u001b[0mset\u001b[0m\u001b[0;34m(\u001b[0m\u001b[0;34m)\u001b[0m\u001b[0;34m\u001b[0m\u001b[0;34m\u001b[0m\u001b[0m\n\u001b[0;32m----> 2\u001b[0;31m \u001b[0;32mfor\u001b[0m \u001b[0mlabel\u001b[0m \u001b[0;32min\u001b[0m \u001b[0my13_train\u001b[0m\u001b[0;34m:\u001b[0m\u001b[0;34m\u001b[0m\u001b[0;34m\u001b[0m\u001b[0m\n\u001b[0m\u001b[1;32m      3\u001b[0m   \u001b[0mcats\u001b[0m\u001b[0;34m.\u001b[0m\u001b[0madd\u001b[0m\u001b[0;34m(\u001b[0m\u001b[0mlabel\u001b[0m\u001b[0;34m)\u001b[0m\u001b[0;34m\u001b[0m\u001b[0;34m\u001b[0m\u001b[0m\n\u001b[1;32m      4\u001b[0m \u001b[0mprint\u001b[0m\u001b[0;34m(\u001b[0m\u001b[0mcats\u001b[0m\u001b[0;34m)\u001b[0m\u001b[0;34m\u001b[0m\u001b[0;34m\u001b[0m\u001b[0m\n\u001b[1;32m      5\u001b[0m \u001b[0mprint\u001b[0m\u001b[0;34m(\u001b[0m\u001b[0mlen\u001b[0m\u001b[0;34m(\u001b[0m\u001b[0mcats\u001b[0m\u001b[0;34m)\u001b[0m\u001b[0;34m)\u001b[0m\u001b[0;34m\u001b[0m\u001b[0;34m\u001b[0m\u001b[0m\n",
      "\u001b[0;31mNameError\u001b[0m: name 'y13_train' is not defined"
     ]
    }
   ],
   "source": [
    "cats = set()\n",
    "for label in y13_train:\n",
    "  cats.add(label)\n",
    "print(cats)\n",
    "print(len(cats))"
   ]
  },
  {
   "cell_type": "code",
   "execution_count": null,
   "metadata": {
    "colab": {},
    "colab_type": "code",
    "id": "qvGnK2e4_E37"
   },
   "outputs": [],
   "source": [
    "filename = 'finalized_model_13.pkl'\n",
    "pickle.dump(cls_13, open(filename, 'wb'))\n",
    "filename = 'finalized_model_5.pkl'\n",
    "pickle.dump(cls_5, open(filename, 'wb'))\n",
    "filename = 'sentiment_weights_model2.pkl'\n",
    "pickle.dump(tfidf, open(filename, 'wb'))"
   ]
  },
  {
   "cell_type": "code",
   "execution_count": null,
   "metadata": {
    "colab": {},
    "colab_type": "code",
    "id": "x1zs_Ruz_MaL"
   },
   "outputs": [],
   "source": [
    "# visualize the data\n",
    "from collections import Counter\n",
    "import matplotlib.pyplot as plt"
   ]
  },
  {
   "cell_type": "code",
   "execution_count": null,
   "metadata": {
    "colab": {},
    "colab_type": "code",
    "id": "BXCrmM9U3wV5"
   },
   "outputs": [],
   "source": [
    "c = dict(Counter(y_5))\n",
    "x = c.keys()\n",
    "vals = c.values()\n",
    "x_range = [i+1 for i in range(len(x))]"
   ]
  },
  {
   "cell_type": "code",
   "execution_count": null,
   "metadata": {
    "colab": {
     "base_uri": "https://localhost:8080/",
     "height": 321
    },
    "colab_type": "code",
    "id": "xWjoNMXYK274",
    "outputId": "570d426d-4288-45d8-f297-bf65b3124512"
   },
   "outputs": [],
   "source": [
    "plt.bar(x_range, vals, color='red')\n",
    "plt.xlabel('category')\n",
    "plt.ylabel('counts')\n",
    "plt.title('Counts of the categories')\n",
    "plt.xticks(x_range, x, rotation='vertical')\n",
    "plt.show()"
   ]
  },
  {
   "cell_type": "code",
   "execution_count": null,
   "metadata": {
    "colab": {
     "base_uri": "https://localhost:8080/",
     "height": 35
    },
    "colab_type": "code",
    "id": "sKhpojLnLX7j",
    "outputId": "d2b64b60-2879-4995-fe63-8f611a3110d7"
   },
   "outputs": [],
   "source": []
  },
  {
   "cell_type": "code",
   "execution_count": 0,
   "metadata": {
    "colab": {},
    "colab_type": "code",
    "id": "AgQp7XfyMAzx"
   },
   "outputs": [],
   "source": []
  }
 ],
 "metadata": {
  "accelerator": "GPU",
  "colab": {
   "collapsed_sections": [],
   "name": "156-proj.ipynb",
   "provenance": [],
   "version": "0.3.2"
  },
  "kernelspec": {
   "display_name": "Python 3",
   "language": "python",
   "name": "python3"
  },
  "language_info": {
   "codemirror_mode": {
    "name": "ipython",
    "version": 3
   },
   "file_extension": ".py",
   "mimetype": "text/x-python",
   "name": "python",
   "nbconvert_exporter": "python",
   "pygments_lexer": "ipython3",
   "version": "3.6.8"
  }
 },
 "nbformat": 4,
 "nbformat_minor": 1
}
